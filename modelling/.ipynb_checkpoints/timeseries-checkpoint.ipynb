{
 "cells": [
  {
   "cell_type": "code",
   "execution_count": 1,
   "id": "aaadd9b1",
   "metadata": {},
   "outputs": [],
   "source": [
    "import sys\n",
    "sys.path.append('../external/tslib')\n",
    "\n",
    "import pandas as pd\n",
    "import numpy as np\n",
    "import matplotlib.pyplot as plt\n",
    "import seaborn as sns\n",
    "import random\n",
    "import csv\n",
    "import os\n",
    "import time\n",
    "\n",
    "random.seed(42)\n",
    "np.random.seed(42)"
   ]
  },
  {
   "cell_type": "markdown",
   "id": "1f18c22e",
   "metadata": {},
   "source": [
    "### Preprocessing"
   ]
  },
  {
   "cell_type": "code",
   "execution_count": null,
   "id": "b5365dd1",
   "metadata": {},
   "outputs": [],
   "source": [
    "# 读入CSV\n",
    "df = pd.read_csv('../data/request_timeseries_all.csv')\n",
    "\n",
    "# 把 timestamp 转成 date\n",
    "df['date'] = pd.to_datetime(df['timestamp'], unit='s')\n",
    "\n",
    "# 删除原来的 timestamp\n",
    "df = df.drop(columns=['timestamp'])\n",
    "\n",
    "# 把 date 列放到最前面\n",
    "df = df[['date', 'requests']]\n",
    "\n",
    "# roll up evry 5 data points\n",
    "group_size = 5\n",
    "grouped = df.groupby(df.index // group_size)\n",
    "\n",
    "# 构建结果 DataFrame：保留起始时间，计算归一化请求数\n",
    "result = grouped.agg({\n",
    "    \"date\": \"first\",\n",
    "    \"requests\": lambda x: x.sum() / 120\n",
    "})\n",
    "\n",
    "result.to_csv('../data/request_timeseries_aggregated.csv', index=False)"
   ]
  },
  {
   "cell_type": "markdown",
   "id": "d91dcbd7",
   "metadata": {},
   "source": [
    "### Experiment"
   ]
  },
  {
   "cell_type": "code",
   "execution_count": null,
   "id": "51cc443f",
   "metadata": {},
   "outputs": [],
   "source": [
    "# 内部用后30%作为测试集\n",
    "python ../external/tslib/run.py \\\n",
    "  --task_name long_term_forecast \\\n",
    "  --is_training 1 \\\n",
    "  --root_path ../data/ \\\n",
    "  --data_path request_timeseries_aggregated.csv\\\n",
    "  --model_id ts_48_48 \\\n",
    "  --model iTransformer \\\n",
    "  --data custom \\\n",
    "  --features S \\\n",
    "  --target requests \\\n",
    "  --freq h \\\n",
    "  --seq_len 48 \\\n",
    "  --label_len 24 \\\n",
    "  --pred_len 48 \\\n",
    "  --e_layers 2 \\\n",
    "  --d_layers 1 \\\n",
    "  --factor 3 \\\n",
    "  --enc_in 1 \\\n",
    "  --dec_in 1 \\\n",
    "  --c_out 1 \\\n",
    "  --d_model 16 \\\n",
    "  --d_ff 32 \\\n",
    "  --des Exp \\\n",
    "  --itr 1 \\\n",
    "  --top_k 5"
   ]
  },
  {
   "cell_type": "code",
   "execution_count": 4,
   "id": "df31d6e4",
   "metadata": {},
   "outputs": [],
   "source": [
    "# 分割数据集，将数据集分为训练集和测试集，后30%作为测试集\n",
    "\n",
    "df = pd.read_csv('../data/request_timeseries_all.csv')\n",
    "train_size = int(len(df) * 0.7)\n",
    "train_data = df[:train_size]\n",
    "test_data = df[train_size:]\n",
    "train_data.to_csv('../data/request_timeseries_train.csv', index=False)\n",
    "test_data.to_csv('../data/request_timeseries_test.csv', index=False)"
   ]
  },
  {
   "cell_type": "code",
   "execution_count": null,
   "id": "6d88d6d7",
   "metadata": {},
   "outputs": [],
   "source": []
  }
 ],
 "metadata": {
  "kernelspec": {
   "display_name": "Python 3 (ipykernel)",
   "language": "python",
   "name": "python3"
  },
  "language_info": {
   "codemirror_mode": {
    "name": "ipython",
    "version": 3
   },
   "file_extension": ".py",
   "mimetype": "text/x-python",
   "name": "python",
   "nbconvert_exporter": "python",
   "pygments_lexer": "ipython3",
   "version": "3.10.12"
  }
 },
 "nbformat": 4,
 "nbformat_minor": 5
}
