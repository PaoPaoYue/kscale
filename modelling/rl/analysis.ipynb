{
 "cells": [
  {
   "cell_type": "code",
   "execution_count": 1,
   "id": "be283c96",
   "metadata": {},
   "outputs": [
    {
     "name": "stdout",
     "output_type": "stream",
     "text": [
      "Using device: cuda\n"
     ]
    }
   ],
   "source": [
    "import sys\n",
    "\n",
    "import torch\n",
    "import pandas as pd\n",
    "import numpy as np\n",
    "import matplotlib.pyplot as plt\n",
    "import seaborn as sns\n",
    "import random\n",
    "import csv\n",
    "import os\n",
    "import json\n",
    "import time\n",
    "import matplotlib.pyplot as plt\n",
    "\n",
    "seed = 42\n",
    "random.seed(seed)\n",
    "np.random.seed(seed)\n",
    "torch.manual_seed(seed)\n",
    "\n",
    "device = torch.device(\"cuda\" if torch.cuda.is_available() else \"cpu\")\n",
    "print(f\"Using device: {device}\")"
   ]
  },
  {
   "cell_type": "code",
   "execution_count": 14,
   "id": "4e9c7f3e",
   "metadata": {},
   "outputs": [
    {
     "name": "stdout",
     "output_type": "stream",
     "text": [
      "encoder.net.mlp.0.weight: shape = (256, 30), num_elements = 7680\n",
      "encoder.net.mlp.0.bias: shape = (256,), num_elements = 256\n",
      "encoder.net.mlp.2.weight: shape = (256, 256), num_elements = 65536\n",
      "encoder.net.mlp.2.bias: shape = (256,), num_elements = 256\n"
     ]
    }
   ],
   "source": [
    "from ray.rllib.core.rl_module.rl_module import RLModule\n",
    "from ray.rllib.core import DEFAULT_MODULE_ID\n",
    "import os\n",
    "\n",
    "rl_module = RLModule.from_checkpoint(\n",
    "    os.path.join(\n",
    "        '/home/ypp/ray_results/PPO_2025-06-05_18-40-42/PPO_WorkerScaling_c40ae_00000_0_2025-06-05_18-40-42/checkpoint_000013',\n",
    "        \"learner_group\",\n",
    "        \"learner\",\n",
    "        \"rl_module\",\n",
    "        DEFAULT_MODULE_ID,\n",
    "    )\n",
    ")\n",
    "model = rl_module.encoder \n",
    "for name, param in model.named_parameters():\n",
    "    if param.requires_grad:\n",
    "        print(f\"{name}: shape = {tuple(param.shape)}, num_elements = {param.numel()}\")"
   ]
  },
  {
   "cell_type": "code",
   "execution_count": 15,
   "id": "8b9b8b3e",
   "metadata": {},
   "outputs": [
    {
     "name": "stdout",
     "output_type": "stream",
     "text": [
      "[0.14135239 0.12942077 0.14919943 0.11790366 0.12811893 0.12513433\n",
      " 0.13169056 0.14157927 0.13359748 0.14655748 0.13178308 0.14615175\n",
      " 0.13519129 0.13528901 0.11969435 0.13298826 0.13745238 0.13223459\n",
      " 0.11401026 0.11107364 0.10750868 0.10050817 0.1007076  0.10099256\n",
      " 0.10030379 0.10195825 0.10037808 0.11052208 0.11766333 0.12618256]\n"
     ]
    }
   ],
   "source": [
    "weight = model.encoder.net.mlp[0].weight  # shape: (256, 30)\n",
    "avg_per_input_dim = weight.abs().mean(dim=0).detach().numpy()  # 取每列的平均绝对值（推荐）\n",
    "\n",
    "print(avg_per_input_dim)  # shape: (30,)\n"
   ]
  },
  {
   "cell_type": "code",
   "execution_count": 18,
   "id": "90a61a83",
   "metadata": {},
   "outputs": [
    {
     "data": {
      "image/png": "[encoded data removed]",
      "text/plain": [
       "<Figure size 640x480 with 1 Axes>"
      ]
     },
     "metadata": {},
     "output_type": "display_data"
    }
   ],
   "source": [
    "import matplotlib.pyplot as plt\n",
    "\n",
    "plt.bar(range(len(avg_per_input_dim)), avg_per_input_dim)\n",
    "plt.xlabel(\"Input Feature Index\")\n",
    "plt.ylabel(\"Mean |Weight|\")\n",
    "plt.title(\"Feature Importance from First Linear Layer\")\n",
    "plt.show()"
   ]
  },
  {
   "cell_type": "code",
   "execution_count": null,
   "id": "ef19d6fd",
   "metadata": {},
   "outputs": [
    {
     "name": "stdout",
     "output_type": "stream",
     "text": [
      "Output shape: torch.Size([1, 256])\n",
      "Input feature 0: contribution = 41.095398\n",
      "Input feature 1: contribution = 39.611507\n",
      "Input feature 2: contribution = 37.369129\n",
      "Input feature 3: contribution = 18.750175\n",
      "Input feature 4: contribution = 17.033916\n",
      "Input feature 5: contribution = 33.897320\n",
      "Input feature 6: contribution = 44.948372\n",
      "Input feature 7: contribution = 40.694836\n",
      "Input feature 8: contribution = 21.938318\n",
      "Input feature 9: contribution = 89.674583\n",
      "Input feature 10: contribution = 66.707626\n",
      "Input feature 11: contribution = 22.846384\n",
      "Input feature 12: contribution = 13.765870\n",
      "Input feature 13: contribution = 33.350826\n",
      "Input feature 14: contribution = 27.006268\n",
      "Input feature 15: contribution = 28.489548\n",
      "Input feature 16: contribution = 2.262063\n",
      "Input feature 17: contribution = 21.415920\n",
      "Input feature 18: contribution = 6.415111\n",
      "Input feature 19: contribution = 32.262520\n",
      "Input feature 20: contribution = 4.336918\n",
      "Input feature 21: contribution = 4.537570\n",
      "Input feature 22: contribution = 5.867235\n",
      "Input feature 23: contribution = 23.816933\n",
      "Input feature 24: contribution = 14.034356\n",
      "Input feature 25: contribution = 3.804905\n",
      "Input feature 26: contribution = 2.828734\n",
      "Input feature 27: contribution = 11.320309\n",
      "Input feature 28: contribution = 5.218417\n",
      "Input feature 29: contribution = 18.079542\n"
     ]
    }
   ],
   "source": [
    "from ray.rllib.core.columns import Columns\n",
    "from ray.rllib.core.models.base import ENCODER_OUT\n",
    "\n",
    "# 构造一个样本输入 (batch_size=1, input_dim=30)\n",
    "x = torch.zeros(1, 30, requires_grad=True)\n",
    "\n",
    "# 正向传播\n",
    "output = model({Columns.OBS: x})[ENCODER_OUT]\n",
    "\n",
    "print(f\"Output shape: {output['actor'].shape}\")  # 输出形状\n",
    "\n",
    "# 反向传播，计算 d(output)/d(x)\n",
    "output['actor'].sum().backward()\n",
    "\n",
    "# 获取每个输入维度的梯度绝对值作为重要性\n",
    "contribution = x.grad.abs().squeeze().detach().numpy()\n",
    "\n",
    "# 输出贡献度（形状为 [30]）\n",
    "for i, val in enumerate(contribution):\n",
    "    print(f\"Input feature {i}: contribution = {val:.6f}\")"
   ]
  }
 ],
 "metadata": {
  "kernelspec": {
   "display_name": "Python 3 (ipykernel)",
   "language": "python",
   "name": "python3"
  },
  "language_info": {
   "codemirror_mode": {
    "name": "ipython",
    "version": 3
   },
   "file_extension": ".py",
   "mimetype": "text/x-python",
   "name": "python",
   "nbconvert_exporter": "python",
   "pygments_lexer": "ipython3",
   "version": "3.10.12"
  }
 },
 "nbformat": 4,
 "nbformat_minor": 5
}
